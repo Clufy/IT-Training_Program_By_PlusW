{
  "cells": [
    {
      "cell_type": "code",
      "source": [
        "#1 Name Formatter and Length Calculator\n",
        "\n",
        "first_name = input(\"\")\n",
        "last_name = input(\"\")"
      ],
      "metadata": {
        "id": "ygRU8xoCnEkd",
        "outputId": "4573249c-ba9f-4f1c-e17c-a4f63eb9db91",
        "colab": {
          "base_uri": "https://localhost:8080/"
        }
      },
      "execution_count": null,
      "outputs": [
        {
          "name": "stdout",
          "output_type": "stream",
          "text": [
            "Aquib\n",
            "Haq\n"
          ]
        }
      ]
    },
    {
      "cell_type": "code",
      "source": [
        "print(first_name.upper())\n",
        "print(last_name.lower())\n",
        "\n",
        "\n"
      ],
      "metadata": {
        "id": "LbOD-5AtnU-q",
        "outputId": "0c8fc338-38f1-4855-a45e-dfd7729ba907",
        "colab": {
          "base_uri": "https://localhost:8080/"
        }
      },
      "execution_count": null,
      "outputs": [
        {
          "output_type": "stream",
          "name": "stdout",
          "text": [
            "AQUIB\n",
            "haq\n"
          ]
        }
      ]
    },
    {
      "cell_type": "code",
      "source": [
        "total_letters = len(first_name) + len(last_name)\n",
        "\n",
        "\n",
        "print(f\"First name (upper): {first_name.upper()}\")\n",
        "print(f\"Last name (lower): {last_name.lower()}\")\n",
        "print(\"Sum of letters in your first and last name:\", total_letters)\n"
      ],
      "metadata": {
        "id": "RaAmmO5NozKf",
        "outputId": "5ea5222b-041b-48da-d8a2-6e230a11e1f5",
        "colab": {
          "base_uri": "https://localhost:8080/"
        }
      },
      "execution_count": null,
      "outputs": [
        {
          "output_type": "stream",
          "name": "stdout",
          "text": [
            "First name (upper): AQUIB\n",
            "Last name (lower): haq\n",
            "Sum of letters in your first and last name: 8\n"
          ]
        }
      ]
    },
    {
      "cell_type": "code",
      "source": [
        "#2 Simple Area Calculator for various shapes\n",
        "print(\"Calculate the area of following shapes:\")\n",
        "print(\"1. Circle\")\n",
        "print(\"2. Rectangle\")\n",
        "print(\"3. Square\")\n",
        "print(\"4. Triangle\")\n",
        "shape = input(\"Find the area of : \")\n",
        "\n",
        "radius = float(input(\"Enter the radius of the circle: \"))\n",
        "area =  3.1421 *  radius**2\n",
        "print(\"area of circle is\", area)\n"
      ],
      "metadata": {
        "id": "N3oLpoM4rJh2",
        "outputId": "50d9aa70-35e3-4dec-94a2-b6f33ef0602e",
        "colab": {
          "base_uri": "https://localhost:8080/"
        }
      },
      "execution_count": null,
      "outputs": [
        {
          "output_type": "stream",
          "name": "stdout",
          "text": [
            "Calculate the area of following shapes:\n",
            "1. Circle\n",
            "2. Rectangle\n",
            "3. Square\n",
            "4. Triangle\n",
            "Find the area of : Circle\n",
            "Enter the radius of the circle: 4\n",
            "area of circle is 50.2736\n"
          ]
        }
      ]
    },
    {
      "cell_type": "code",
      "source": [
        "print(\"Find area of Rectangle\")\n",
        "length = float(input(\"Enter length: \"))\n",
        "width = float(input(\"Enter width: \"))\n",
        "area = length * width\n",
        "\n",
        "print(\"Area of rectangle is\", area)"
      ],
      "metadata": {
        "id": "2R5pMWPJr4tZ",
        "outputId": "da1694d0-6fbc-4ceb-ff98-1ab4d3d7cf86",
        "colab": {
          "base_uri": "https://localhost:8080/"
        }
      },
      "execution_count": null,
      "outputs": [
        {
          "output_type": "stream",
          "name": "stdout",
          "text": [
            "Find area of Rectangle\n",
            "Enter length: 5.2\n",
            "Enter width: 4.1\n",
            "Area of rectangle is 21.32\n"
          ]
        }
      ]
    },
    {
      "cell_type": "code",
      "source": [
        "print(\"Find area of square\")\n",
        "side = float(input(\"Enter side: \"))\n",
        "area = side * side\n",
        "\n",
        "\n",
        "print(\"Area of square is\", area)"
      ],
      "metadata": {
        "id": "365rcjLnsdb8",
        "outputId": "f19c3a95-e250-468d-e3f3-b1b487bd86a6",
        "colab": {
          "base_uri": "https://localhost:8080/"
        }
      },
      "execution_count": null,
      "outputs": [
        {
          "output_type": "stream",
          "name": "stdout",
          "text": [
            "Find area of square\n",
            "Enter side: 3\n",
            "Area of square is 9.0\n"
          ]
        }
      ]
    },
    {
      "cell_type": "code",
      "source": [
        "print(\"Find area of triangle\")\n",
        "base = float(input(\"Enter base: \"))\n",
        "height = float(input(\"Enter height: \"))\n",
        "area = 0.5 * base * height\n",
        "\n",
        "print(\"Area of triangle is\", area)"
      ],
      "metadata": {
        "id": "SV1rrGkFs4vK",
        "outputId": "e55e615d-a5d6-464c-90d3-4a6dc4fb0b03",
        "colab": {
          "base_uri": "https://localhost:8080/"
        }
      },
      "execution_count": null,
      "outputs": [
        {
          "output_type": "stream",
          "name": "stdout",
          "text": [
            "Find area of triangle\n",
            "Enter base: 3\n",
            "Enter height: 2\n",
            "Area of triangle is 3.0\n"
          ]
        }
      ]
    },
    {
      "cell_type": "code",
      "source": [
        "# Random Color-Based Password Generator in Python\n",
        "import random\n",
        "\n",
        "colors = [\"red\", \"blue\", \"green\", \"yellow\", \"orange\", \"purple\"]\n",
        "\n",
        "index = random.randint(0, len(colors) - 1)\n",
        "\n",
        "selected_color = colors[index]\n",
        "\n",
        "#The slicing syntax [::-1] is used to reverse the string\n",
        "\n",
        "password = selected_color[::-1]\n",
        "\n",
        "#The print statements display the selected color and the generated password (reversed color) to the user.\n",
        "print(\"Selected Color:\", selected_color)\n",
        "print(\"Generated Password:\", password)"
      ],
      "metadata": {
        "id": "nbgSVXM2tWH8",
        "outputId": "da2f1cc3-c130-4593-caa8-ccfd0707701b",
        "colab": {
          "base_uri": "https://localhost:8080/"
        }
      },
      "execution_count": null,
      "outputs": [
        {
          "output_type": "stream",
          "name": "stdout",
          "text": [
            "Selected Color: red\n",
            "Generated Password: der\n"
          ]
        }
      ]
    }
  ],
  "metadata": {
    "colab": {
      "toc_visible": true,
      "provenance": []
    },
    "kernelspec": {
      "display_name": "Python 3",
      "name": "python3"
    }
  },
  "nbformat": 4,
  "nbformat_minor": 0
}