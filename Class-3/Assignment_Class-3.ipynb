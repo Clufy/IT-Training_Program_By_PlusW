{
  "nbformat": 4,
  "nbformat_minor": 0,
  "metadata": {
    "colab": {
      "provenance": []
    },
    "kernelspec": {
      "name": "python3",
      "display_name": "Python 3"
    },
    "language_info": {
      "name": "python"
    }
  },
  "cells": [
    {
      "cell_type": "code",
      "execution_count": 3,
      "metadata": {
        "colab": {
          "base_uri": "https://localhost:8080/"
        },
        "id": "80vIPMDLLkH9",
        "outputId": "40263d50-15d9-4e96-9b0a-3dda995b3ad2"
      },
      "outputs": [
        {
          "output_type": "stream",
          "name": "stdout",
          "text": [
            "Learn hiragana\n",
            "Learn  basic python\n",
            "Complete assignment\n",
            "Learn  basic python\n",
            "Complete assignment\n"
          ]
        }
      ],
      "source": [
        "# simple todo list\n",
        "\n",
        "tasks = []\n",
        "\n",
        "def add_task(task):\n",
        "  tasks.append(task)\n",
        "\n",
        "def remove_task(task):\n",
        "  if task in tasks:\n",
        "    tasks.remove(task)\n",
        "\n",
        "def view_tasks():\n",
        "  for task in tasks:\n",
        "    print(task)\n",
        "\n",
        "add_task(\"Learn hiragana\")\n",
        "add_task(\"Learn  basic python\")\n",
        "add_task(\"Complete assignment\")\n",
        "view_tasks()\n",
        "remove_task(\"Learn hiragana\")\n",
        "view_tasks()"
      ]
    },
    {
      "cell_type": "code",
      "source": [
        "# maximum and minimum values in a list\n",
        "\n",
        "def find_max_min(lst):\n",
        " max_no = lst[0]\n",
        " min_no = lst[0]\n",
        " for no in lst:\n",
        "   if(no > max_no):\n",
        "      max_no = no\n",
        "   if(no < min_no):\n",
        "     min_no = no\n",
        " return max_no , min_no\n",
        "\n",
        "numbers = [3, 7, 1, 5, 6]\n",
        "max_no, min_no = find_max_min(numbers)\n",
        "print(f\"Max: {max_no}, Min: {min_no}\")"
      ],
      "metadata": {
        "colab": {
          "base_uri": "https://localhost:8080/"
        },
        "id": "0cQdtcmOMG6I",
        "outputId": "0f75c516-2baf-4a4b-fcc9-83c418b5cc59"
      },
      "execution_count": 4,
      "outputs": [
        {
          "output_type": "stream",
          "name": "stdout",
          "text": [
            "Max: 7, Min: 1\n"
          ]
        }
      ]
    },
    {
      "cell_type": "code",
      "source": [
        "# phone book using dictionaries\n",
        "\n",
        "phonebook = {}\n",
        "def add_contact(name, number):\n",
        " phonebook[name] = number\n",
        "\n",
        "def get_number(name):\n",
        " return phonebook.get(name, \"Contact not found\")\n",
        "\n",
        "add_contact(\"John\", \"3124576890\")\n",
        "add_contact(\"Emily\", \"9876543210\")\n",
        "print(get_number(\"John\"))"
      ],
      "metadata": {
        "colab": {
          "base_uri": "https://localhost:8080/"
        },
        "id": "A_NZTg3kMbG3",
        "outputId": "faa0cc53-4c94-4705-f8ff-0afa1bac304d"
      },
      "execution_count": 5,
      "outputs": [
        {
          "output_type": "stream",
          "name": "stdout",
          "text": [
            "3124576890\n"
          ]
        }
      ]
    },
    {
      "cell_type": "code",
      "source": [
        "inventory={}\n",
        "\n",
        "def add_item(item,quantity):\n",
        "  if item in inventory:\n",
        "    inventory[item]+=quantity\n",
        "  else:\n",
        "    inventory[item]=quantity\n",
        "\n",
        "def remove_item(item,quantity):\n",
        "  if item in inventory and inventory[item]>=quantity:\n",
        "    inventory[item]-=quantity\n",
        "    if inventory[item]==0:\n",
        "      del inventory[item]\n",
        "  else:\n",
        "    print(f\"Insufficient quantity of {item}.\")\n",
        "\n",
        "def view_inventory():\n",
        "  for item,quantity in inventory.items():\n",
        "    print(f\"{item}:{quantity}\")\n",
        "\n",
        "add_item(\"Pineapple\",12)\n",
        "add_item(\"Banana\",5)\n",
        "remove_item(\"Pineapple\",3)\n",
        "view_inventory()"
      ],
      "metadata": {
        "colab": {
          "base_uri": "https://localhost:8080/"
        },
        "id": "2WY696BBMu6q",
        "outputId": "d39feb21-5cac-4606-95cc-bdc7405cd472"
      },
      "execution_count": 11,
      "outputs": [
        {
          "output_type": "stream",
          "name": "stdout",
          "text": [
            "Pineapple:9\n",
            "Banana:5\n"
          ]
        }
      ]
    },
    {
      "cell_type": "code",
      "source": [
        "def deposit(balance, amount):\n",
        " balance += amount\n",
        " print(f\"Deposited: {amount}. New balance: {balance}\")\n",
        " return balance # Return the updated balance\n",
        "\n",
        "def withdraw(balance, amount):\n",
        " if amount <= balance:\n",
        "  balance -= amount\n",
        "  print(f\"Withdrew: {amount}. New balance: {balance}\")\n",
        " else:\n",
        "   print(\"Insufficient funds\")\n",
        " return balance # Return the updated balance\n",
        "def check_balance(balance):\n",
        " print(f\"Current balance: {balance}\")\n",
        "\n",
        "balance = 3500 # Initial balance\n",
        "balance = deposit(balance, 500) # Deposit money\n",
        "balance = withdraw(balance, 1500) # Withdraw money\n",
        "check_balance(balance)"
      ],
      "metadata": {
        "colab": {
          "base_uri": "https://localhost:8080/"
        },
        "id": "j230DrLYNF3D",
        "outputId": "9a6035ce-26ce-4162-a0da-88f335a678d6"
      },
      "execution_count": 8,
      "outputs": [
        {
          "output_type": "stream",
          "name": "stdout",
          "text": [
            "Deposited: 500. New balance: 4000\n",
            "Withdrew: 1500. New balance: 2500\n",
            "Current balance: 2500\n"
          ]
        }
      ]
    }
  ]
}